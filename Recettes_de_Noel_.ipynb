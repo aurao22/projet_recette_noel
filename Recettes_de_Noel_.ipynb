{
 "cells": [
  {
   "cell_type": "markdown",
   "metadata": {},
   "source": [
    "# <font color='black'> Recettes de Noël </font>\n",
    "\n",
    "---\n",
    "\n",
    "<img src=\"epice.jpg\" align=\"right\">\n",
    "\n",
    "\n",
    "\n"
   ]
  },
  {
   "cell_type": "markdown",
   "metadata": {},
   "source": [
    "# Mission \n",
    "Votre mission sera de créer un nuage de mots d'aspect professionnel à partir d'un ensemble de données textuelles en Python. Vous utiliserez un ensemble de données open source contenant des recettes de Noël et créerez un nuage de mots des ingrédients les plus importants utilisés dans ces recettes.\n",
    "Vous l'accomplirez en accomplissant chaque tâche du projet :\n",
    "\n",
    "- Tâche 1 : Charger un ensemble de données JSON dans Python\n",
    "\n",
    "- Tâche 2 : Nettoyer l'ensemble de donnéee\n",
    "\n",
    "- Tâche 3 - Lemmatiser le texte\n",
    "\n",
    "- Tâche 4 - Ajuster le modèle TF-IDF\n",
    "\n",
    "- Tâche 5 - Créer un Word cloud"
   ]
  },
  {
   "cell_type": "markdown",
   "metadata": {},
   "source": [
    "\n",
    "- TF-IDF donne un poids à chaque mot qui indique l'importance de ce terme. En utilisant à la fois la lemmatisation et TF-IDF, on peut trouver les mots importants dans l'ensemble de données textuelles et utiliser ces mots importants pour créer le nuage de mots. Par exemple, ces ensembles de données peuvent être des plaintes de clients et l'entreprise peut se concentrer sur les problèmes importants auxquels les clients sont confrontés. \n",
    "- Word cloud est une ressource puissante qui peut être utilisée dans les rapports et les présentations."
   ]
  },
  {
   "cell_type": "markdown",
   "metadata": {},
   "source": [
    "1. ( http://www.tfidf.com/), donne la formule de calcul TF-IDF et un exemple simple. \n",
    "\n",
    "2. Différence entre **stemming** et **lemmatizing**\n",
    "- L'objectif à la fois de la **stemming** et **lemmatizing** est de réduire \n",
    "les formes flexionnelles et parfois les formes dérivées d'un mot à une forme de base commune.\n",
    "Cependant, les deux mots diffèrent : \n",
    "    - **Stemming** fait généralement référence à un processus heuristique grossier qui coupe les extrémités des mots dans l'espoir d'atteindre correctement cet objectif la plupart du temps, et comprend souvent la suppression des affixes dérivationnels. \n",
    "    - **Lemmatizing** se réfère généralement à faire les choses correctement avec l'utilisation d'un vocabulaire et d'une analyse morphologique des mots, visant normalement à supprimer uniquement les terminaisons flexionnelles et à renvoyer la forme de base ou de dictionnaire d'un mot, connue sous le nom de lemme.\n",
    "   \n",
    "    \n",
    "3. Word cloud  https://openclassrooms.com/fr/courses/6532301-introduction-to-natural-language-processing/6532308-build-your-first-word-cloud "
   ]
  },
  {
   "cell_type": "code",
   "execution_count": 193,
   "metadata": {},
   "outputs": [],
   "source": [
    "from nltk import word_tokenize\n",
    "from nltk.stem import WordNetLemmatizer,PorterStemmer "
   ]
  },
  {
   "cell_type": "markdown",
   "metadata": {},
   "source": [
    "# Exemple Lemmatization"
   ]
  },
  {
   "cell_type": "code",
   "execution_count": 194,
   "metadata": {},
   "outputs": [
    {
     "data": {
      "text/plain": [
       "['The', 'girl', 'wanted', 'to', 'play', 'with', 'their', 'parent', '.']"
      ]
     },
     "execution_count": 194,
     "metadata": {},
     "output_type": "execute_result"
    }
   ],
   "source": [
    "lemma=WordNetLemmatizer()\n",
    "text=word_tokenize('The girls wanted to play with their parents .')\n",
    "[lemma.lemmatize(word) for word in text ]"
   ]
  },
  {
   "cell_type": "code",
   "execution_count": 195,
   "metadata": {},
   "outputs": [
    {
     "data": {
      "text/plain": [
       "['The', 'girl', 'wanted', 'to', 'play', 'with', 'their', 'parent']"
      ]
     },
     "execution_count": 195,
     "metadata": {},
     "output_type": "execute_result"
    }
   ],
   "source": [
    "[WordNetLemmatizer().lemmatize(word) for word in word_tokenize('The girls wanted to play with their parents')]"
   ]
  },
  {
   "cell_type": "markdown",
   "metadata": {},
   "source": [
    "**Par défaut**, le lemmatizer de NLTK fait effet sur les noms, on peut lui spécifier d'autres PoS comme le verbe ou l’adjectif, et l’employer dans une composition de fonction comme suit :\n",
    "\n"
   ]
  },
  {
   "cell_type": "code",
   "execution_count": 196,
   "metadata": {},
   "outputs": [
    {
     "data": {
      "text/plain": [
       "['The', 'girl', 'want', 'to', 'play', 'with', 'their', 'parent', '.']"
      ]
     },
     "execution_count": 196,
     "metadata": {},
     "output_type": "execute_result"
    }
   ],
   "source": [
    "[lemma.lemmatize(lemma.lemmatize(lemma.lemmatize(word), pos='a'),pos='v') for word in text ]"
   ]
  },
  {
   "cell_type": "code",
   "execution_count": 197,
   "metadata": {},
   "outputs": [
    {
     "data": {
      "text/plain": [
       "['give', 'giving', 'given', 'gave']"
      ]
     },
     "execution_count": 197,
     "metadata": {},
     "output_type": "execute_result"
    }
   ],
   "source": [
    "words_ver=['give','giving','given','gave']\n",
    "[lemma.lemmatize(word, pos='a') for word in words_ver]"
   ]
  },
  {
   "cell_type": "markdown",
   "metadata": {},
   "source": [
    "# Exemple Stemming"
   ]
  },
  {
   "cell_type": "code",
   "execution_count": 198,
   "metadata": {},
   "outputs": [
    {
     "data": {
      "text/plain": [
       "['troubl', 'troubl', 'troubl']"
      ]
     },
     "execution_count": 198,
     "metadata": {},
     "output_type": "execute_result"
    }
   ],
   "source": [
    "words=['trouble','troubling','troubled'] \n",
    "stem=PorterStemmer()\n",
    "[stem.stem(word) for word in words]"
   ]
  },
  {
   "cell_type": "code",
   "execution_count": null,
   "metadata": {},
   "outputs": [],
   "source": []
  }
 ],
 "metadata": {
  "kernelspec": {
   "display_name": "Python 3",
   "language": "python",
   "name": "python3"
  },
  "language_info": {
   "codemirror_mode": {
    "name": "ipython",
    "version": 3
   },
   "file_extension": ".py",
   "mimetype": "text/x-python",
   "name": "python",
   "nbconvert_exporter": "python",
   "pygments_lexer": "ipython3",
   "version": "3.8.8"
  }
 },
 "nbformat": 4,
 "nbformat_minor": 4
}
